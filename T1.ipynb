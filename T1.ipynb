{
 "cells": [
  {
   "cell_type": "markdown",
   "metadata": {
    "toc": true
   },
   "source": [
    "<h1>Table of Contents<span class=\"tocSkip\"></span></h1>\n",
    "<div class=\"toc\"><ul class=\"toc-item\"><li><span><a href=\"#Тема-1.-Введение-в-программирование-на-языке-Python\" data-toc-modified-id=\"Тема-1.-Введение-в-программирование-на-языке-Python-1\"><span class=\"toc-item-num\">1&nbsp;&nbsp;</span>Тема 1. Введение в программирование на языке Python</a></span></li><li><span><a href=\"#Задания\" data-toc-modified-id=\"Задания-2\"><span class=\"toc-item-num\">2&nbsp;&nbsp;</span>Задания</a></span></li><li><span><a href=\"#1.-Числовые-и-строковые-типы-данных-языка-Python.-Управляющие-конструкции.\" data-toc-modified-id=\"1.-Числовые-и-строковые-типы-данных-языка-Python.-Управляющие-конструкции.-3\"><span class=\"toc-item-num\">3&nbsp;&nbsp;</span>1. Числовые и строковые типы данных языка Python. Управляющие конструкции.</a></span><ul class=\"toc-item\"><li><span><a href=\"#1.1.-Работа-с-числами.-Базовые-числовые-типы-int-и-float\" data-toc-modified-id=\"1.1.-Работа-с-числами.-Базовые-числовые-типы-int-и-float-3.1\"><span class=\"toc-item-num\">3.1&nbsp;&nbsp;</span>1.1. Работа с числами. Базовые числовые типы int и float</a></span></li><li><span><a href=\"#1.2.-Строки,-функции-и-методы-работы-со-строками\" data-toc-modified-id=\"1.2.-Строки,-функции-и-методы-работы-со-строками-3.2\"><span class=\"toc-item-num\">3.2&nbsp;&nbsp;</span>1.2. Строки, функции и методы работы со строками</a></span></li></ul></li></ul></div>"
   ]
  },
  {
   "cell_type": "markdown",
   "metadata": {},
   "source": [
    "\n",
    "# Тема 1. Введение в программирование на языке Python"
   ]
  },
  {
   "cell_type": "markdown",
   "metadata": {},
   "source": [
    "# Задания\n",
    "\n",
    "Выполните задания\n",
    "\n",
    "# 1. Числовые и строковые типы данных языка Python. Управляющие конструкции.\n",
    "\n",
    "## 1.1. Работа с числами. Базовые числовые типы int и float\n",
    "\n",
    "1. Значения переменных А и В ввести с клавиатуры и вывести на экран. После этого значения меняются местами, т.е. A нужно присвоить значение B, а B – значение A, и вновь значения переменных вывести на экран.\n",
    "\n",
    "2. Значение x вводится с клавиатуры. Вычислите $y=(x+1)^2\\cdot \\sqrt{x^3+1}$ Выведите на экран значения $x$ и $y$ с тремя знаками после запятой.\n",
    "\n",
    "3. Вычислите сумму цифр пятизначного числа.\n",
    "\n",
    "4. Для заданного трехзначного числа выведите число, у которого цифры идут в обратном порядке, например, для числа 123 ответ 321.\n",
    "\n",
    "5. Ввести координаты 2 точек: $(x_1,y_1)$ и $(x_2,y_2)$. Вычислите расстояние между этими точками.  Результат выведите с 5 знаками после запятой.\n",
    "\n",
    "6. Разработать программу вычисления по известному радиусу площади круга и длины окружности.\n",
    "\n",
    "7. Разработать программу по вычислению площади кольца по известным значениям его внешнего и внутреннего радиусов.\n",
    "\n",
    "8. Разработать программу вычисления радиуса круга и его площади по известной длине окружности.\n",
    "\n",
    "9. Разработать программу вычисления объема шара: а) по радиусу; б) по длине его экваториальной параллели. Объём шара рассчитывается по формуле $V=\\frac{4}{3}\\pi{r^3}$, где $r$ - радиус.\n",
    "\n",
    "10. Имеются два $n$–мерных вектора $x$ и $y$, которые задают координаты $n$ точек на плоскости (случайные целые числа). Найти наиболее близкие друг другу точки.\n",
    "\n",
    "11. Треугольник задан координатами своих вершин: $(x_1,y_1),(x_2,y_2),(x_3,y_3)$. Значения координат определите с помощью присваивания. Они могут быть нецелыми. Найти периметр и площадь треугольника.\n",
    "\n",
    "12. Пусть пользователь вводит 5 чисел: а, b, c, d, e. Реализуйте программу расчета выражения вида $res=\\frac{a+bc}{2d-e}+Ost[b^e/c]$, где $Ost$ - остаток от деления. Учесть невозможность деления на 0.\n",
    "\n",
    "\n",
    "## 1.2. Строки, функции и методы работы со строками\n",
    "\n",
    "1. Введите строку, состоящую из двух цифр. Преобразуйте ее в целое и вещественное число. Выведите полученные три значения (строку, целое число, вещественное число) на экран в одной строке через запятую, затем пропустите строку и вновь выведите значения по одному на строке. Перед каждым значением выведите его тип.\n",
    "\n",
    "2. Для строки 'Финансовый университет' двумя способами получить подстроку с 1-го по 4-й символы включительно.\n",
    "\n",
    "3. Составить строку из всех четных символов строки 'Финансовый университет'.\n",
    "\n",
    "4. Получить подстроку неизвестной заранее строки, содержащую половину символов строки и расположенную посередине строки.\n",
    "\n",
    "5. Коротко записать создание строки 'oneoneoneoneoneonetwotwotwo'\n",
    "\n",
    "6. Для введенной строки выведите (на отдельной строке):\n",
    "- второй символ этой строки;\n",
    "- предпоследний символ этой строки;\n",
    "- всю строку, кроме последних двух символов;\n",
    "- все символы с четными индексами (считая, что индексация начинается с 0, поэтому символы выводятся, начиная с первого);\n",
    "- все символы с нечетными индексами, то есть начиная со второго символа строки;\n",
    "- все символы в обратном порядке;\n",
    "- все символы строки через один в обратном порядке, начиная с последнего;\n",
    "- длину данной строки.\n",
    "\n",
    "7. Не используя метод count, для заданной строки выполните:\n",
    "- если символ * в данной строке отсутствует, выведите текст «нет символа»;\n",
    "- если символ * встречается в строке только один раз, выведите его индекс;\n",
    "- если символ * встречается два и более раз, выведите индекс его первого, второго и последнего вхождения, удалите первый и последний символ * из строки.\n",
    "\n",
    "8. Дана строка, состоящая из слов, разделенных пробелами. В этой строке:\n",
    "- удалите все лишние пробелы (в начале, в конце, между словами оставить ровно один пробел);\n",
    "- поменяйте регистр символов (строчные сделать прописными, прописные – строчными);\n",
    "- определите, сколько в ней слов.\n",
    "\n",
    "9. Строка содержит фамилию, имя и отчество, записанные через пробелы. Например «Иванов Иван Иванович». Для этой строки:\n",
    "- выведите информацию в виде:\n",
    "```\n",
    "Фамилия       Иванов\n",
    "Имя           Иван\n",
    "Отчество      Иванович\n",
    "```\n",
    "- получите строки вида «Иванов И.И.» и «И.И. Иванов».\n",
    "\n",
    "10. Напишите программу, которая осуществляет вывод кошки на экран. Примечание: кошка выглядят примерно так:\n",
    "```\n",
    "         /\\_/\\ \n",
    "         /@ @\\ \n",
    "        (~~0~~)\n",
    "\n",
    " ```\n",
    "\n",
    "11. Для двух произвольных строк провести сравнение на совпадение содержимого без учета регистра букв и начальных и конечных пробельных символов. Например, для двух строк ' HeLLO WOrlD' и 'hello WORLD ' такое сравнение должно возвращать True (содержание строк совпадает).\n",
    "\n",
    "12. По номеру года определите, является ли данный год високосным. (год является високосным, если его номер кратен 4, но не кратен 100, а также если он кратен 400).\n",
    "\n",
    "18. Даны точки $A=(1,1),B=(5,5),C=(1,4),D=(7,2)$. Найти точку пересечения отрезков $AB$ и $CD$."
   ]
  },
  {
   "cell_type": "markdown",
   "metadata": {},
   "source": [
    "## Задание 1 \n",
    "Значения переменных А и В ввести с клавиатуры и вывести на экран. После этого значения меняются местами, т.е. A нужно присвоить значение B, а B – значение A, и вновь значения переменных вывести на экран.\n"
   ]
  },
  {
   "cell_type": "code",
   "execution_count": null,
   "metadata": {
    "tags": []
   },
   "outputs": [],
   "source": [
    "A = int(input(\"Введите значение A: \"))\n",
    "B = int(input(\"Введите значение B: \"))\n",
    "print( A, B)\n",
    "temp = A\n",
    "A = B\n",
    "B = temp\n",
    "print(\"Поменяли:\", A, B)"
   ]
  },
  {
   "cell_type": "markdown",
   "metadata": {
    "tags": []
   },
   "source": [
    "## Задание 2 \n",
    "Значение x вводится с клавиатуры. Вычислите $y=(x+1)^2\\cdot \\sqrt{x^3+1}$\n",
    "  Выведите на экран значения  𝑥\n",
    "  и  𝑦\n",
    "  с тремя знаками после запятой."
   ]
  },
  {
   "cell_type": "code",
   "execution_count": null,
   "metadata": {
    "tags": []
   },
   "outputs": [],
   "source": [
    " x = int ( input ())\n",
    "y = (x+1)**2 * (x**3 +1)**(1/2)\n",
    "print (x ,  round (y,3))"
   ]
  },
  {
   "cell_type": "markdown",
   "metadata": {},
   "source": [
    "## Задание 3  \n",
    "Вычислите сумму цифр пятизначного числа."
   ]
  },
  {
   "cell_type": "code",
   "execution_count": 2,
   "metadata": {
    "tags": []
   },
   "outputs": [
    {
     "name": "stdin",
     "output_type": "stream",
     "text": [
      "Введите пятизначное число  45678\n"
     ]
    },
    {
     "name": "stdout",
     "output_type": "stream",
     "text": [
      "8+7+6+5+4=30\n"
     ]
    }
   ],
   "source": [
    "d=int(input(\"Введите пятизначное число \"))\n",
    "a=d%10\n",
    "b=d//10%10\n",
    "c=d//10//10%10\n",
    "e = d//10//10//10%10\n",
    "f = d//10//10//10//10%10\n",
    "print(f\"{a}+{b}+{c}+{e}+{f}={a+b+c+e+f}\")"
   ]
  },
  {
   "cell_type": "markdown",
   "metadata": {},
   "source": [
    "## Задание 4 \n",
    "Для заданного трехзначного числа выведите число, у которого цифры идут в обратном порядке, например, для числа 123 ответ 321."
   ]
  },
  {
   "cell_type": "code",
   "execution_count": 1,
   "metadata": {
    "tags": []
   },
   "outputs": [
    {
     "name": "stdin",
     "output_type": "stream",
     "text": [
      "Введите трехзначное число:  345\n"
     ]
    },
    {
     "name": "stdout",
     "output_type": "stream",
     "text": [
      "Число с цифрами в обратном порядке: 543\n"
     ]
    }
   ],
   "source": [
    "number = int(input(\"Введите трехзначное число: \"))\n",
    "reversed_number = int(str(number)[::-1])\n",
    "print(\"Число с цифрами в обратном порядке:\", reversed_number)\n"
   ]
  },
  {
   "cell_type": "markdown",
   "metadata": {
    "tags": []
   },
   "source": [
    "## Задание 5\n",
    "Ввести координаты 2 точек:  (𝑥1,𝑦1)\n",
    "  и  (𝑥2,𝑦2)\n",
    " . Вычислите расстояние между этими точками. Результат выведите с 5 знаками после запятой.\n"
   ]
  },
  {
   "cell_type": "code",
   "execution_count": 6,
   "metadata": {
    "tags": []
   },
   "outputs": [
    {
     "name": "stdin",
     "output_type": "stream",
     "text": [
      "Введите координаты первой точки (x1 y1):  3 5\n",
      "Введите координаты второй точки (x2 y2):  5 3\n"
     ]
    },
    {
     "name": "stdout",
     "output_type": "stream",
     "text": [
      "Расстояние между точками: 2.82843\n"
     ]
    }
   ],
   "source": [
    "import math\n",
    "x1, y1 = map(float, input(\"Введите координаты первой точки (x1 y1): \").split())\n",
    "x2, y2 = map(float, input(\"Введите координаты второй точки (x2 y2): \").split())\n",
    "distance = math.sqrt((x2 - x1) ** 2 + (y2 - y1) ** 2)\n",
    "print(\"Расстояние между точками:\", round(distance, 5))"
   ]
  },
  {
   "cell_type": "markdown",
   "metadata": {},
   "source": [
    "## Задание 6\n",
    "Разработать программу вычисления по известному радиусу площади круга и длины окружности."
   ]
  },
  {
   "cell_type": "code",
   "execution_count": 11,
   "metadata": {},
   "outputs": [
    {
     "name": "stdout",
     "output_type": "stream",
     "text": [
      "Введите радиус= 5\n",
      "78.5 31.400000000000002\n"
     ]
    }
   ],
   "source": [
    "import math\n",
    "\n",
    "area = float(input(\"Введите площадь круга: \"))\n",
    "circumference = float(input(\"Введите длину окружности: \"))\n",
    "\n",
    "radius = math.sqrt(area / math.pi)\n",
    "print(\"Радиус круга:\", round(radius, 5))\n",
    "\n",
    "radius = circumference / (2 * math.pi)\n",
    "print(\"Радиус круга по длине окружности:\", round(radius, 5))"
   ]
  },
  {
   "cell_type": "markdown",
   "metadata": {},
   "source": [
    "## Задание 7 \n",
    "Разработать программу по вычислению площади кольца по известным значениям его внешнего и внутреннего радиусов."
   ]
  },
  {
   "cell_type": "code",
   "execution_count": null,
   "metadata": {
    "tags": []
   },
   "outputs": [],
   "source": [
    "import math\n",
    "\n",
    "outer_radius = float(input(\"Введите внешний радиус кольца: \"))\n",
    "inner_radius = float(input(\"Введите внутренний радиус кольца: \"))\n",
    "\n",
    "area = math.pi * (outer_radius**2 - inner_radius**2)\n",
    "print(\"Площадь кольца:\", round(area, 5))"
   ]
  },
  {
   "cell_type": "markdown",
   "metadata": {},
   "source": [
    "## Задание 8\n",
    "Разработать программу вычисления радиуса круга и его площади по известной длине окружности.\n"
   ]
  },
  {
   "cell_type": "code",
   "execution_count": 1,
   "metadata": {},
   "outputs": [
    {
     "name": "stdout",
     "output_type": "stream",
     "text": [
      "Длина = 5\n",
      "1.9904458598726114 0.44930943310756394\n"
     ]
    }
   ],
   "source": [
    "import math\n",
    "\n",
    "circumference = float(input(\"Введите длину окружности: \"))\n",
    "\n",
    "radius = circumference / (2 * math.pi)\n",
    "print(\"Радиус круга:\", round(radius, 5))\n",
    "\n",
    "area = math.pi * radius**2\n",
    "print(\"Площадь круга:\", round(area, 5))"
   ]
  },
  {
   "cell_type": "markdown",
   "metadata": {},
   "source": [
    "## Задание 9\n",
    "Разработать программу вычисления объема шара: а) по радиусу; б) по длине его экваториальной параллели. Объём шара рассчитывается по формуле $V=\\frac{4}{3}\\pi{r^3}$, где $r$ - радиус"
   ]
  },
  {
   "cell_type": "code",
   "execution_count": 56,
   "metadata": {},
   "outputs": [
    {
     "name": "stdout",
     "output_type": "stream",
     "text": [
      "Радиус = 5\n",
      "Экваториальная параллель = 6\n",
      "Объем шара по радусу равен =  523.3333333333334 Объем шара по экваториальной параллели равен =  1.3692239036066371\n"
     ]
    }
   ],
   "source": [
    "r = int(input(\"Радиус = \"))\n",
    "l = int (input (\"Экваториальная параллель = \"))\n",
    "pi = 3.14\n",
    "V1 = (4/3)*pi*r**3\n",
    "V2 = (l**3)/(16*pi**2)\n",
    "print (\"Объем шара по радусу равен = \", V1, \"Объем шара по экваториальной параллели равен = \", V2)\n",
    "\n"
   ]
  },
  {
   "cell_type": "markdown",
   "metadata": {},
   "source": [
    "## Задание 10 \n",
    "Имеются два  𝑛\n",
    " –мерных вектора  𝑥\n",
    "  и  𝑦\n",
    " , которые задают координаты  𝑛\n",
    "  точек на плоскости (случайные целые числа). Найти наиболее близкие друг другу точки"
   ]
  },
  {
   "cell_type": "code",
   "execution_count": 1,
   "metadata": {},
   "outputs": [
    {
     "name": "stdout",
     "output_type": "stream",
     "text": [
      "Ближайшие точки в x: [74  9 55 50 87]\n",
      "Ближайшие точки в y: [65 23 82 51 73]\n",
      "Минимальная дистанция: 34.68429039204925\n"
     ]
    }
   ],
   "source": [
    "import numpy as np\n",
    "\n",
    "def euclidean_distance(x, y):\n",
    "    return np.linalg.norm(x - y)\n",
    "\n",
    "def find_closest_points(x_vectors, y_vectors):\n",
    "    min_distance = float('inf')\n",
    "    closest_x = None\n",
    "    closest_y = None\n",
    "\n",
    "    for x in x_vectors:\n",
    "        for y in y_vectors:\n",
    "            distance = euclidean_distance(x, y)\n",
    "            if distance < min_distance:\n",
    "                min_distance = distance\n",
    "                closest_x = x\n",
    "                closest_y = y\n",
    "\n",
    "    return closest_x, closest_y, min_distance\n",
    "\n",
    "\n",
    "n = 5  \n",
    "num_points = 10\n",
    "\n",
    "\n",
    "x_vectors = np.random.randint(1, 100, size=(num_points, n))\n",
    "y_vectors = np.random.randint(1, 100, size=(num_points, n))\n",
    "\n",
    "closest_x, closest_y, min_distance = find_closest_points(x_vectors, y_vectors)\n",
    "\n",
    "print(\"Ближайшие точки в x:\", closest_x)\n",
    "print(\"Ближайшие точки в y:\", closest_y)\n",
    "print(\"Минимальная дистанция:\", min_distance)"
   ]
  },
  {
   "cell_type": "markdown",
   "metadata": {},
   "source": [
    "## Задание 11 \n",
    "Треугольник задан координатами своих вершин:  (𝑥1,𝑦1),(𝑥2,𝑦2),(𝑥3,𝑦3)\n",
    " . Значения координат определите с помощью присваивания. Они могут быть нецелыми. Найти периметр и площадь треугольника."
   ]
  },
  {
   "cell_type": "code",
   "execution_count": 9,
   "metadata": {},
   "outputs": [
    {
     "name": "stdout",
     "output_type": "stream",
     "text": [
      "Площадь треугольника равна =  21.0 Периметр треугольника равен =  62.0\n"
     ]
    }
   ],
   "source": [
    "x1,x2,x3 = 5,6,10\n",
    "y1,y2,y3 = 3,-5,5\n",
    "S = (1/2) *((x2-x1)*(y3-y1)-(x3-x1)*(y2-y1))\n",
    "AB = (((x2-x1)**(2)) + ((y2-y1)**(2))**(1/2))\n",
    "AC = (((x3-x1)**(2)) + ((y3-y1)**(2))**(1/2))\n",
    "BC = (((x3-x2)**(2)) + ((y3-y2)**(2))**(1/2))\n",
    "P = AB+AC+BC\n",
    "print(\"Площадь треугольника равна = \", S, \"Периметр треугольника равен = \", P)\n"
   ]
  },
  {
   "cell_type": "markdown",
   "metadata": {},
   "source": [
    "## Задание 12 \n",
    "Пусть пользователь вводит 5 чисел: а, b, c, d, e. Реализуйте программу расчета выражения вида $res=\\frac{a+bc}{2d-e}+Ost[b^e/c]$, где $Ost$ - остаток от деления. Учесть невозможность деления на 0."
   ]
  },
  {
   "cell_type": "code",
   "execution_count": 6,
   "metadata": {},
   "outputs": [
    {
     "name": "stdout",
     "output_type": "stream",
     "text": [
      "1\n",
      "2\n",
      "3\n",
      "45\n",
      "6\n",
      "-3.9333333333333336\n"
     ]
    }
   ],
   "source": [
    "a = int(input())\n",
    "b = int(input())\n",
    "c = int(input())\n",
    "d = int(input())\n",
    "e = int(input())\n",
    "if c == 0:\n",
    "    print (\"Деление на ноль\")\n",
    "else:\n",
    "    res = (a+(b*c)/(2*d)-e) + ((b**e)%c)\n",
    "    print (res)"
   ]
  },
  {
   "cell_type": "markdown",
   "metadata": {},
   "source": [
    "# Задания 1.2"
   ]
  },
  {
   "cell_type": "markdown",
   "metadata": {},
   "source": [
    "## Задание 1 \n",
    "Введите строку, состоящую из двух цифр. Преобразуйте ее в целое и вещественное число. Выведите полученные три значения (строку, целое число, вещественное число) на экран в одной строке через запятую, затем пропустите строку и вновь выведите значения по одному на строке. Перед каждым значением выведите его тип."
   ]
  },
  {
   "cell_type": "code",
   "execution_count": 7,
   "metadata": {},
   "outputs": [
    {
     "name": "stdout",
     "output_type": "stream",
     "text": [
      "56, 56, 56.0\n",
      "\n",
      "Строка: 56, тип: <class 'str'>\n",
      "Целое число: 56, тип: <class 'int'>\n",
      "Вещественное число: 56.0, тип: <class 'float'>\n"
     ]
    }
   ],
   "source": [
    "st = \"56\"\n",
    "\n",
    "integer = int(st)\n",
    "float_number = float(st)\n",
    "print(f\"{st}, {integer}, {float_number}\")\n",
    "print()\n",
    "\n",
    "print(f\"Строка: {st}, тип: {type(st)}\")\n",
    "print(f\"Целое число: {integer}, тип: {type(integer)}\")\n",
    "print(f\"Вещественное число: {float_number}, тип: {type(float_number)}\")"
   ]
  },
  {
   "cell_type": "markdown",
   "metadata": {},
   "source": [
    "## Задание 2\n",
    "Для строки 'Финансовый университет' двумя способами получить подстроку с 1-го по 4-й символы включительно."
   ]
  },
  {
   "cell_type": "code",
   "execution_count": 1,
   "metadata": {
    "tags": []
   },
   "outputs": [
    {
     "name": "stdout",
     "output_type": "stream",
     "text": [
      "Фина\n",
      "\n",
      "Фина\n"
     ]
    }
   ],
   "source": [
    "str  = \"Финансовый университет\"\n",
    "pervoe = str [0:4]\n",
    "print(pervoe)\n",
    "print()\n",
    "vtoroe = slice(0,4)\n",
    "res = str[vtoroe]\n",
    "print(res)\n"
   ]
  },
  {
   "cell_type": "markdown",
   "metadata": {},
   "source": [
    "## Задание 3\n",
    "Составить строку из всех четных символов строки 'Финансовый университет'."
   ]
  },
  {
   "cell_type": "code",
   "execution_count": 12,
   "metadata": {},
   "outputs": [
    {
     "data": {
      "text/plain": [
       "'иасвйуиестт'"
      ]
     },
     "execution_count": 12,
     "metadata": {},
     "output_type": "execute_result"
    }
   ],
   "source": [
    "s = \"Финансовый университет\"\n",
    "s [1: :2]"
   ]
  },
  {
   "cell_type": "markdown",
   "metadata": {},
   "source": [
    "## Задание 4\n",
    "Получить подстроку неизвестной заранее строки, содержащую половину символов строки и расположенную посередине строки."
   ]
  },
  {
   "cell_type": "code",
   "execution_count": 8,
   "metadata": {},
   "outputs": [
    {
     "name": "stdout",
     "output_type": "stream",
     "text": [
      "lo, wo\n"
     ]
    }
   ],
   "source": [
    "str4 = \"Hello, world!\"\n",
    "lenght = len(str4)\n",
    "start_index = lenght // 4\n",
    "end_index = 3 * lenght // 4\n",
    "substring = str4[start_index:end_index]\n",
    "print(substring)"
   ]
  },
  {
   "cell_type": "markdown",
   "metadata": {},
   "source": [
    "## Задание 5\n",
    "Коротко записать создание строки 'oneoneoneoneoneonetwotwotwo'"
   ]
  },
  {
   "cell_type": "code",
   "execution_count": 1,
   "metadata": {},
   "outputs": [
    {
     "name": "stdout",
     "output_type": "stream",
     "text": [
      "one one one one one one two two two\n"
     ]
    }
   ],
   "source": [
    "#s = \"one one one one one one two two two\"\n",
    "#print (s)\n",
    "print(\"one one one one one one two two two\")"
   ]
  },
  {
   "cell_type": "markdown",
   "metadata": {},
   "source": [
    "## Задание 6\n",
    ". Для введенной строки выведите (на отдельной строке):\n",
    "- второй символ этой строки;\n",
    "- предпоследний символ этой строки;\n",
    "- всю строку, кроме последних двух символов;\n",
    "- все символы с четными индексами (считая, что индексация начинается с 0, поэтому символы выводятся, начиная с первого);\n",
    "- все символы с нечетными индексами, то есть начиная со второго символа строки;\n",
    "- все символы в обратном порядке;\n",
    "- все символы строки через один в обратном порядке, начиная с последнего;\n",
    "- длину данной строки."
   ]
  },
  {
   "cell_type": "code",
   "execution_count": 7,
   "metadata": {},
   "outputs": [
    {
     "name": "stdout",
     "output_type": "stream",
     "text": [
      "н\n",
      "е\n",
      "Финансовый университ\n",
      "Фаойнеит\n",
      "иасвйуиестт\n",
      "тетисревину йывоснаниФ\n",
      "ттсеиуйвсаи\n",
      "22\n"
     ]
    }
   ],
   "source": [
    "g = \"Финансовый университет\"\n",
    "print(g [2]) #1\n",
    "print(g [-2]) #2\n",
    "print(g [0:20]) #3\n",
    "print(g [0: : 3]) #4\n",
    "print(g [1 : : 2]) #5\n",
    "print(g [ :  : -1]) #6\n",
    "print(g [ : : -2]) #7\n",
    "print (len(g)) #8"
   ]
  },
  {
   "cell_type": "markdown",
   "metadata": {},
   "source": [
    "## Задание 7\n",
    "Не используя метод count, для заданной строки выполните:\n",
    "- если символ * в данной строке отсутствует, выведите текст «нет символа»;\n",
    "- если символ * встречается в строке только один раз, выведите его индекс;\n",
    "- если символ * встречается два и более раз, выведите индекс его первого, второго и последнего вхождения, удалите первый и последний символ * из строки."
   ]
  },
  {
   "cell_type": "code",
   "execution_count": 8,
   "metadata": {},
   "outputs": [
    {
     "name": "stdout",
     "output_type": "stream",
     "text": [
      "Введите строку: s*qew**weq*\n",
      "Первый символ * на позиции: 1\n",
      "Второй символ * на позиции: 5\n",
      "Последний символ * на позиции: 10\n",
      "Обновленная строка: sqew**weq\n"
     ]
    }
   ],
   "source": [
    "string = input(\"Введите строку: \")\n",
    "count = 0\n",
    "first_index = -1\n",
    "second_index = -1\n",
    "last_index = -1\n",
    "\n",
    "for i in range(len(string)):\n",
    "    if string[i] == '*':\n",
    "        count += 1\n",
    "        if count == 1:\n",
    "            first_index = i\n",
    "        elif count == 2:\n",
    "            second_index = i\n",
    "\n",
    "        last_index = i\n",
    "\n",
    "if count == 0:\n",
    "    print(\"Нет символа *\")\n",
    "elif count == 1:\n",
    "    print(\"Символ * встречается один раз на позиции:\", first_index)\n",
    "else:\n",
    "    print(\"Первый символ * на позиции:\", first_index)\n",
    "    print(\"Второй символ * на позиции:\", second_index)\n",
    "    print(\"Последний символ * на позиции:\", last_index)\n",
    "    string = string[:first_index] + string[first_index+1:last_index] + string[last_index+1:]\n",
    "    print(\"Обновленная строка:\", string)"
   ]
  },
  {
   "cell_type": "markdown",
   "metadata": {},
   "source": [
    "## Задание 8\n",
    "Дана строка, состоящая из слов, разделенных пробелами. В этой строке:\n",
    "- удалите все лишние пробелы (в начале, в конце, между словами оставить ровно один пробел);\n",
    "- поменяйте регистр символов (строчные сделать прописными, прописные – строчными);\n",
    "- определите, сколько в ней слов."
   ]
  },
  {
   "cell_type": "code",
   "execution_count": 22,
   "metadata": {},
   "outputs": [
    {
     "data": {
      "text/plain": [
       "False"
      ]
     },
     "execution_count": 22,
     "metadata": {},
     "output_type": "execute_result"
    }
   ],
   "source": []
  },
  {
   "cell_type": "markdown",
   "metadata": {},
   "source": [
    "## Задание 9\n",
    "Строка содержит фамилию, имя и отчество, записанные через пробелы. Например «Иванов Иван Иванович». Для этой строки:\n",
    "- выведите информацию в виде:\n",
    "```\n",
    "Фамилия       Иванов\n",
    "Имя           Иван\n",
    "Отчество      Иванович\n",
    "```\n",
    "- получите строки вида «Иванов И.И.» и «И.И. Иванов»."
   ]
  },
  {
   "cell_type": "code",
   "execution_count": 2,
   "metadata": {},
   "outputs": [
    {
     "name": "stdout",
     "output_type": "stream",
     "text": [
      "Фамилия Иванов\n",
      "Имя Иван\n",
      "Отчество Иванович\n",
      "\n",
      "Иванов И.И и И.И Иванов\n"
     ]
    }
   ],
   "source": [
    "full_name = \"Иванов Иван Иванович\"\n",
    "last_name, first_name, middle_name = full_name.split()\n",
    "print(f\"Фамилия {last_name}\")\n",
    "print(f\"Имя {first_name}\")\n",
    "print(f\"Отчество {middle_name}\")\n",
    "\n",
    "print()\n",
    "\n",
    "s1 = f\"{last_name} {first_name[0]}.{middle_name[0]}\"\n",
    "s2 = f\"{first_name[0]}.{middle_name[0]} {last_name}\"\n",
    "print(s1, \"и\" ,s2)"
   ]
  },
  {
   "cell_type": "markdown",
   "metadata": {},
   "source": [
    "## Задание 10\n",
    "Напишите программу, которая осуществляет вывод кошки на экран. Примечание: кошка выглядят примерно так:\n",
    "```\n",
    "         /\\_/\\ \n",
    "         /@ @\\ \n",
    "        (~~0~~)\n",
    "\n",
    " ```"
   ]
  },
  {
   "cell_type": "code",
   "execution_count": 2,
   "metadata": {
    "tags": []
   },
   "outputs": [
    {
     "name": "stdout",
     "output_type": "stream",
     "text": [
      " /\\_/\\\n",
      " /@ @\\\n",
      "(~~0~~)\n"
     ]
    }
   ],
   "source": [
    "print(\" /\\_/\\\\\\n /@ @\\\\\\n(~~0~~)\")\n"
   ]
  },
  {
   "cell_type": "markdown",
   "metadata": {},
   "source": [
    "## Задание 11\n",
    "Для двух произвольных строк провести сравнение на совпадение содержимого без учета регистра букв и начальных и конечных пробельных символов. Например, для двух строк ' HeLLO WOrlD' и 'hello WORLD ' такое сравнение должно возвращать True (содержание строк совпадает)."
   ]
  },
  {
   "cell_type": "code",
   "execution_count": 3,
   "metadata": {
    "tags": []
   },
   "outputs": [
    {
     "name": "stdout",
     "output_type": "stream",
     "text": [
      "Строки не одинаковы\n"
     ]
    }
   ],
   "source": [
    "g = \"HeLLO WOrlD\"\n",
    "f = \"HeLLO WOrlDj-dd\"\n",
    "\n",
    "if g.lower() == f.lower():\n",
    "    print(\"Строки одинаковы\")\n",
    "else:\n",
    "    print(\"Строки не одинаковы\")"
   ]
  },
  {
   "cell_type": "markdown",
   "metadata": {},
   "source": [
    "## Задание 12\n",
    "По номеру года определите, является ли данный год високосным. (год является високосным, если его номер кратен 4, но не кратен 100, а также если он кратен 400)."
   ]
  },
  {
   "cell_type": "code",
   "execution_count": 39,
   "metadata": {},
   "outputs": [
    {
     "name": "stdout",
     "output_type": "stream",
     "text": [
      "2020\n",
      "Високосный\n"
     ]
    }
   ],
   "source": [
    "year = int(input())\n",
    "if (year % 4 == 0) and (year % 100 != 0) or (year % 400 == 0):\n",
    "    print(\"Високосный\")\n",
    "else:\n",
    "    print(\"Не високосный\")"
   ]
  },
  {
   "cell_type": "markdown",
   "metadata": {},
   "source": [
    "## Задание 13\n",
    "Даны точки $A=(1,1),B=(5,5),C=(1,4),D=(7,2)$. Найти точку пересечения отрезков $AB$ и $CD$."
   ]
  },
  {
   "cell_type": "code",
   "execution_count": 7,
   "metadata": {},
   "outputs": [
    {
     "name": "stdout",
     "output_type": "stream",
     "text": [
      "Точка пересечения: (3.25, 3.25)\n"
     ]
    }
   ],
   "source": [
    "def find_intersection(A, B, C, D):\n",
    "    x1, y1 = A\n",
    "    x2, y2 = B\n",
    "    x3, y3 = C\n",
    "    x4, y4 = D\n",
    "\n",
    "    # Проверяем условие, что отрезки имеют ненулевую длину\n",
    "    if x1 == x2 and y1 == y2 or x3 == x4 and y3 == y4:\n",
    "        return None\n",
    "\n",
    "    # Вычисляем коэффициенты a и b для уравнений прямых, содержащих отрезки AB и CD\n",
    "    a1 = (y2 - y1) / (x2 - x1)\n",
    "    b1 = y1 - a1 * x1\n",
    "    a2 = (y4 - y3) / (x4 - x3)\n",
    "    b2 = y3 - a2 * x3\n",
    "\n",
    "    # Проверяем условие, что отрезки AB и CD не параллельны\n",
    "    if a1 == a2:\n",
    "        return None\n",
    "\n",
    "    # Решаем систему уравнений для нахождения x и y точки пересечения\n",
    "    x = (b2 - b1) / (a1 - a2)\n",
    "    y = a1 * x + b1\n",
    "\n",
    "    # Проверяем, что точка пересечения лежит на обоих отрезках AB и CD\n",
    "    if x < min(x1, x2) or x > max(x1, x2) or x < min(x3, x4) or x > max(x3, x4):\n",
    "        return None\n",
    "\n",
    "    return (x, y)\n",
    "A = (1,1)\n",
    "B = (5,5)\n",
    "C = (1,4)\n",
    "D = (7,2)\n",
    "\n",
    "# Находим точку пересечения отрезков AB и CD\n",
    "intersection = find_intersection(A, B, C, D)\n",
    "\n",
    "# Выводим результат\n",
    "if intersection:\n",
    "    print(f\"Точка пересечения: {intersection}\")\n",
    "else:\n",
    "    print(\"Отрезки не пересекаются\")"
   ]
  },
  {
   "cell_type": "code",
   "execution_count": null,
   "metadata": {},
   "outputs": [],
   "source": []
  }
 ],
 "metadata": {
  "kernelspec": {
   "display_name": "Python 3 (ipykernel)",
   "language": "python",
   "name": "python3"
  },
  "language_info": {
   "codemirror_mode": {
    "name": "ipython",
    "version": 3
   },
   "file_extension": ".py",
   "mimetype": "text/x-python",
   "name": "python",
   "nbconvert_exporter": "python",
   "pygments_lexer": "ipython3",
   "version": "3.11.4"
  },
  "toc": {
   "base_numbering": 1,
   "nav_menu": {},
   "number_sections": true,
   "sideBar": true,
   "skip_h1_title": false,
   "title_cell": "Table of Contents",
   "title_sidebar": "Contents",
   "toc_cell": true,
   "toc_position": {},
   "toc_section_display": true,
   "toc_window_display": false
  },
  "varInspector": {
   "cols": {
    "lenName": 16,
    "lenType": 16,
    "lenVar": 40
   },
   "kernels_config": {
    "python": {
     "delete_cmd_postfix": "",
     "delete_cmd_prefix": "del ",
     "library": "var_list.py",
     "varRefreshCmd": "print(var_dic_list())"
    },
    "r": {
     "delete_cmd_postfix": ") ",
     "delete_cmd_prefix": "rm(",
     "library": "var_list.r",
     "varRefreshCmd": "cat(var_dic_list()) "
    }
   },
   "types_to_exclude": [
    "module",
    "function",
    "builtin_function_or_method",
    "instance",
    "_Feature"
   ],
   "window_display": false
  }
 },
 "nbformat": 4,
 "nbformat_minor": 4
}
