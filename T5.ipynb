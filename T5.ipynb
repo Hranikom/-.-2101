{
 "cells": [
  {
   "cell_type": "markdown",
   "id": "75ba224b",
   "metadata": {
    "toc": true
   },
   "source": [
    "<h1>Table of Contents<span class=\"tocSkip\"></span></h1>\n",
    "<div class=\"toc\"><ul class=\"toc-item\"></ul></div>"
   ]
  },
  {
   "cell_type": "markdown",
   "id": "edbef882",
   "metadata": {},
   "source": [
    "<p style=\"font-size:125%; color:#119988; background-color:#EEE\">Задание 1</p>\n",
    "\n",
    "Создайте словарь *food* продуктов питания, ключами которого являются наименования, а значениями цены. Исходные данные для словаря:\n",
    "```\n",
    "titles=('apples,grape,bananas,watermelons,tomatoes'.split(','))\n",
    "prices=(20,25,15,11,15)\n",
    "```"
   ]
  },
  {
   "cell_type": "code",
   "execution_count": 3,
   "id": "7befff06",
   "metadata": {
    "tags": []
   },
   "outputs": [],
   "source": [
    "# 1\n",
    "\n",
    "titles=('apples,grape,bananas,watermelons,tomatoes'.split(','))\n",
    "prices=(20,25,15,11,15)\n",
    "\n"
   ]
  },
  {
   "cell_type": "markdown",
   "id": "815e7957",
   "metadata": {},
   "source": [
    "<p style=\"font-size:125%; color:#119988; background-color:#EEE\">Задание 2</p>\n",
    "\n",
    "Удалите из словаря *food* арбузы (watermelons) и добавьте дыни (melons) по той же цене."
   ]
  },
  {
   "cell_type": "code",
   "execution_count": 4,
   "id": "50964e18",
   "metadata": {
    "tags": []
   },
   "outputs": [
    {
     "name": "stdout",
     "output_type": "stream",
     "text": [
      "{'apples': 20, 'grape': 25, 'bananas': 15, 'tomatoes': 15, 'melons': 11}\n"
     ]
    }
   ],
   "source": [
    "# 2\n",
    "\n",
    "food = {\n",
    "    'apples': 20,\n",
    "    'grape': 25,\n",
    "    'bananas': 15,\n",
    "    'watermelons': 11,\n",
    "    'tomatoes': 15\n",
    "}\n",
    "\n",
    "del food['watermelons']\n",
    "food['melons'] = 11\n",
    "print(food)\n"
   ]
  },
  {
   "cell_type": "markdown",
   "id": "09da5372",
   "metadata": {},
   "source": [
    "<p style=\"font-size:125%; color:#119988; background-color:#EEE\">Задание 3</p>\n",
    "\n",
    "Все цены снижены на 15%. Обновите словарь продуктов."
   ]
  },
  {
   "cell_type": "code",
   "execution_count": 5,
   "id": "b88d99a1",
   "metadata": {
    "tags": []
   },
   "outputs": [
    {
     "name": "stdout",
     "output_type": "stream",
     "text": [
      "{'apples': 17.0, 'grape': 21.25, 'bananas': 12.75, 'tomatoes': 12.75, 'melons': 9.35}\n"
     ]
    }
   ],
   "source": [
    "# 3\n",
    "\n",
    "food = {\n",
    "    'apples': 20,\n",
    "    'grape': 25,\n",
    "    'bananas': 15,\n",
    "    'tomatoes': 15,\n",
    "    'melons': 11\n",
    "}\n",
    "food = {product: price * 0.85 for product, price in food.items()}\n",
    "print(food)"
   ]
  },
  {
   "cell_type": "markdown",
   "id": "ea04b336",
   "metadata": {},
   "source": [
    "<p style=\"font-size:125%; color:#119988; background-color:#EEE\">Задание 4</p>\n",
    "\n",
    "Поменяйте местами цены и названия, пусть ключами словаря станут цены, а значениями - названия. Изменилось ли при этом количество элементов словаря? Если да, то объясните, почему."
   ]
  },
  {
   "cell_type": "code",
   "execution_count": 7,
   "id": "968cf531",
   "metadata": {
    "tags": []
   },
   "outputs": [
    {
     "name": "stdout",
     "output_type": "stream",
     "text": [
      "{20: 'apples', 25: 'grape', 15: 'tomatoes', 11: 'melons'}\n"
     ]
    }
   ],
   "source": [
    "# 4\n",
    "food = {\n",
    "    'apples': 20,\n",
    "    'grape': 25,\n",
    "    'bananas': 15,\n",
    "    'tomatoes': 15,\n",
    "    'melons': 11\n",
    "}\n",
    "flipped_food = {price: product for product, price in food.items()}\n",
    "print(flipped_food)"
   ]
  },
  {
   "cell_type": "markdown",
   "id": "e924503f-247f-44bf-a714-04764636361a",
   "metadata": {},
   "source": [
    "Это происходит из-за того, что ключи словаря должны быть уникальными, и при попытке использовать одинаковый ключ, предыдущая запись заменяется новой."
   ]
  },
  {
   "cell_type": "markdown",
   "id": "ef49adb3",
   "metadata": {},
   "source": [
    "<p style=\"font-size:125%; color:#119988; background-color:#EEE\">Задание 5</p>\n",
    "\n",
    "Напишите функцию, возвращающую максимальную степень некоторого натурального числа $k$ (например $k=2$), меньшую данного натурального числа $n$. Пусть $k$ и $n$ будут параметрами функции."
   ]
  },
  {
   "cell_type": "code",
   "execution_count": 8,
   "id": "a56f047a",
   "metadata": {
    "tags": []
   },
   "outputs": [
    {
     "name": "stdout",
     "output_type": "stream",
     "text": [
      "Максимальная степень 2, меньшая чем 20, равна 4\n"
     ]
    }
   ],
   "source": [
    "# 5\n",
    "def max_power_less_than_n(k, n):\n",
    "    max_power = 0\n",
    "    power_result = k ** max_power\n",
    "\n",
    "    while power_result < n:\n",
    "        max_power += 1\n",
    "        power_result = k ** max_power\n",
    "    return max_power - 1\n",
    "\n",
    "k = 2\n",
    "n = 20\n",
    "result = max_power_less_than_n(k, n)\n",
    "print(f\"Максимальная степень {k}, меньшая чем {n}, равна {result}\")\n"
   ]
  },
  {
   "cell_type": "markdown",
   "id": "dafc63f5",
   "metadata": {},
   "source": [
    "<p style=\"font-size:125%; color:#119988; background-color:#EEE\">Задание 6</p>\n",
    "\n",
    "Создайте функцию, возвращающую ряд Фибоначчи до определенного натурального числа $n$."
   ]
  },
  {
   "cell_type": "code",
   "execution_count": 9,
   "id": "de7f401f",
   "metadata": {
    "tags": []
   },
   "outputs": [
    {
     "name": "stdout",
     "output_type": "stream",
     "text": [
      "Ряд Фибоначчи до 50: [0, 1, 1, 2, 3, 5, 8, 13, 21, 34]\n"
     ]
    }
   ],
   "source": [
    "# 6\n",
    "\n",
    "def fibonacci_series(n):\n",
    "    fibonacci_sequence = [0, 1]\n",
    "    while True:\n",
    "        next_fib = fibonacci_sequence[-1] + fibonacci_sequence[-2]\n",
    "        if next_fib > n:\n",
    "            break\n",
    "        fibonacci_sequence.append(next_fib)\n",
    "    return fibonacci_sequence\n",
    "\n",
    "n = 50  # Заданное натуральное число\n",
    "fib_series = fibonacci_series(n)\n",
    "print(f\"Ряд Фибоначчи до {n}: {fib_series}\")"
   ]
  },
  {
   "cell_type": "markdown",
   "id": "119e660a",
   "metadata": {},
   "source": [
    "<p style=\"font-size:125%; color:#119988; background-color:#EEE\">Задание 7</p>\n",
    "\n",
    "Создайте рекурсивную функцию, возвращающую ряд Фибоначчи до определенного натурального числа $n$."
   ]
  },
  {
   "cell_type": "code",
   "execution_count": 10,
   "id": "31838c27",
   "metadata": {
    "tags": []
   },
   "outputs": [
    {
     "name": "stdout",
     "output_type": "stream",
     "text": [
      "Ряд Фибоначчи до 50: [0, 1, 1, 2, 3, 5, 8, 13, 21, 34, 55, 89, 144, 233, 377, 610, 987, 1597, 2584, 4181, 6765, 10946, 17711, 28657, 46368, 75025, 121393, 196418, 317811, 514229, 832040, 1346269, 2178309, 3524578, 5702887, 9227465, 14930352, 24157817, 39088169, 63245986, 102334155, 165580141, 267914296, 433494437, 701408733, 1134903170, 1836311903, 2971215073, 4807526976, 7778742049]\n"
     ]
    }
   ],
   "source": [
    "# 7\n",
    "\n",
    "def fibonacci_recursive(n):\n",
    "    if n <= 0:\n",
    "        return []\n",
    "    elif n == 1:\n",
    "        return [0]\n",
    "    elif n == 2:\n",
    "        return [0, 1]\n",
    "    else:\n",
    "        fib_series = fibonacci_recursive(n - 1)\n",
    "        fib_series.append(fib_series[-1] + fib_series[-2])\n",
    "        return fib_series\n",
    "n = 50  # Заданное натуральное число\n",
    "fib_series = fibonacci_recursive(n)\n",
    "print(f\"Ряд Фибоначчи до {n}: {fib_series}\")"
   ]
  },
  {
   "cell_type": "markdown",
   "id": "ec8400ea",
   "metadata": {},
   "source": [
    "<p style=\"font-size:125%; color:#119988; background-color:#EEE\">Задание 8</p>\n",
    "\n",
    "Создайте функцию, которая проверяет, является ли число членом ряда Фибоначчи."
   ]
  },
  {
   "cell_type": "code",
   "execution_count": 11,
   "id": "a8715c73",
   "metadata": {
    "tags": []
   },
   "outputs": [
    {
     "name": "stdout",
     "output_type": "stream",
     "text": [
      "55 является членом ряда Фибоначчи.\n"
     ]
    }
   ],
   "source": [
    "# 8\n",
    "\n",
    "import math\n",
    "\n",
    "def is_fibonacci_number(n):\n",
    "\n",
    "    condition1 = 5 * n**2 + 4\n",
    "    sqrt_condition1 = int(math.sqrt(condition1))\n",
    "\n",
    " \n",
    "    condition2 = 5 * n**2 - 4\n",
    "    sqrt_condition2 = int(math.sqrt(condition2))\n",
    "\n",
    " \n",
    "    return sqrt_condition1**2 == condition1 or sqrt_condition2**2 == condition2\n",
    "\n",
    "# Пример использования функции\n",
    "n = 55  # Проверяемое число\n",
    "if is_fibonacci_number(n):\n",
    "    print(f\"{n} является членом ряда Фибоначчи.\")\n",
    "else:\n",
    "    print(f\"{n} не является членом ряда Фибоначчи.\")"
   ]
  },
  {
   "cell_type": "markdown",
   "id": "eed2994e",
   "metadata": {},
   "source": [
    "<p style=\"font-size:125%; color:#119988; background-color:#EEE\">Задание 9</p>\n",
    "\n",
    "Студентка Александра родилась 11 июня 2003 года в 12 часов дня. Рассчитать время в минутах с момента рождения."
   ]
  },
  {
   "cell_type": "code",
   "execution_count": 7,
   "id": "6d81786f",
   "metadata": {},
   "outputs": [],
   "source": [
    "# 9\n",
    "\n"
   ]
  }
 ],
 "metadata": {
  "kernelspec": {
   "display_name": "Python 3 (ipykernel)",
   "language": "python",
   "name": "python3"
  },
  "language_info": {
   "codemirror_mode": {
    "name": "ipython",
    "version": 3
   },
   "file_extension": ".py",
   "mimetype": "text/x-python",
   "name": "python",
   "nbconvert_exporter": "python",
   "pygments_lexer": "ipython3",
   "version": "3.11.4"
  },
  "toc": {
   "base_numbering": 1,
   "nav_menu": {},
   "number_sections": true,
   "sideBar": true,
   "skip_h1_title": false,
   "title_cell": "Table of Contents",
   "title_sidebar": "Contents",
   "toc_cell": true,
   "toc_position": {},
   "toc_section_display": true,
   "toc_window_display": false
  },
  "varInspector": {
   "cols": {
    "lenName": 16,
    "lenType": 16,
    "lenVar": 40
   },
   "kernels_config": {
    "python": {
     "delete_cmd_postfix": "",
     "delete_cmd_prefix": "del ",
     "library": "var_list.py",
     "varRefreshCmd": "print(var_dic_list())"
    },
    "r": {
     "delete_cmd_postfix": ") ",
     "delete_cmd_prefix": "rm(",
     "library": "var_list.r",
     "varRefreshCmd": "cat(var_dic_list()) "
    }
   },
   "types_to_exclude": [
    "module",
    "function",
    "builtin_function_or_method",
    "instance",
    "_Feature"
   ],
   "window_display": false
  }
 },
 "nbformat": 4,
 "nbformat_minor": 5
}
